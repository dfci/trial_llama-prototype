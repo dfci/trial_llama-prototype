{
 "cells": [
  {
   "cell_type": "code",
   "execution_count": null,
   "id": "ee78bb6d-4e3c-4751-b042-12c358d89cac",
   "metadata": {},
   "outputs": [],
   "source": [
    "import numpy as np\n",
    "import pandas as pd\n",
    "import json\n",
    "from llama_cpp import Llama\n",
    "from transformers import AutoTokenizer\n",
    "import torch"
   ]
  },
  {
   "cell_type": "code",
   "execution_count": null,
   "id": "e8eeb339-6aca-4d3f-96fb-24a1caf26b34",
   "metadata": {},
   "outputs": [],
   "source": [
    "# this notebook generates trial cohort lists using llama based on the text from clinicaltrials.gov,\n",
    "# for our retrospective enrollment dataset"
   ]
  },
  {
   "cell_type": "code",
   "execution_count": null,
   "id": "c85be501-a363-44c9-8383-0f88f5e16257",
   "metadata": {},
   "outputs": [],
   "source": [
    "prefix = '/data/clin_notes_outcomes/pan_dfci_2024/derived_data/'\n",
    "enrollments = pd.read_csv(prefix + 'useful_trial_enrollments.csv')\n",
    "enrollments['trial_start_dt'] = pd.to_datetime(enrollments.trial_start_dt)\n",
    "enrollments = enrollments[enrollments.trial_start_dt >= pd.to_datetime('2016-01-01')]"
   ]
  },
  {
   "cell_type": "code",
   "execution_count": null,
   "id": "6dcff9d3-e419-4738-b3ca-77fcf1e0a252",
   "metadata": {},
   "outputs": [],
   "source": [
    "enrollments.info()"
   ]
  },
  {
   "cell_type": "code",
   "execution_count": null,
   "id": "7129a989-04e9-475d-9260-d1fdb1ab7faa",
   "metadata": {},
   "outputs": [],
   "source": [
    "llm = Llama.from_pretrained(\n",
    "    repo_id=\"lmstudio-community/Meta-Llama-3-70B-Instruct-GGUF\",\n",
    "    filename=\"*Q4*\",\n",
    "    verbose=False,\n",
    "    local_dir = '/data/clin_notes_outcomes/meta/',\n",
    "    cache_dir = '/data/clin_notes_outcomes/meta/',\n",
    "    n_ctx=8192,\n",
    "    n_gpu_layers=-1\n",
    ")"
   ]
  },
  {
   "cell_type": "code",
   "execution_count": null,
   "id": "d9d7d1c4-50ed-4614-9855-8e6cc86bbb0e",
   "metadata": {},
   "outputs": [],
   "source": [
    "tokenizer = AutoTokenizer.from_pretrained(\"meta-llama/Meta-Llama-3-8B-Instruct\")"
   ]
  },
  {
   "cell_type": "code",
   "execution_count": null,
   "id": "44c59d4d-9b8c-4e0a-be6a-d3dd54163b39",
   "metadata": {},
   "outputs": [],
   "source": [
    "def summarize_trial_multi_cohort(eligibility_text, llama_model):\n",
    "    messages = [\n",
    "        {'role':'system', 'content': \"\"\"You are an expert clinical oncologist with an encyclopedic knowledge of cancer and its treatments.\n",
    "    Your job is to review a clinical trial document and generate a concise summary of the objectives of the trial and its target cohort(s).\n",
    "    A cohort is defined as a unique combination of cancer type, tumor biomarkers (such as germline or somatic gene mutations or alterations, or protein expression on tumor), which treatments a patient has received, and presence of metastatic disease.\n",
    "    Some trials have only one cohort, while others have several. Generate a numbered list of such cohorts, where each cohort is described in one concise sentence. Cohorts should be separated by newlines.\n",
    "    When describing prior treatments, if a drug name is mentioned in the trial criteria, add the drug class in parentheses in your cohort definition.\n",
    "    Output should be formatted like this example:\n",
    "    1. Metastatic non-small cell lung cancer, EGFR L858R mutant, previously treated with osimertinib (third-generation EGFR TKI), no prior immunotherapy.\n",
    "    2. Metastatic solid tumors, no available standard therapies, prior immunotherapy required\n",
    "    \"\"\"},      \n",
    "          \n",
    "        {'role':'user', 'content': \"Here is a clinical trial document: \\n\" + eligibility_text + \"\\n\" + \"\"\"Now, generate your list of the trial cohort(s), formatted as above.\n",
    "        Do not provide any introductory, explanatory, concluding, or disclaimer text.\"\"\"\n",
    "        }\n",
    "    ]\n",
    "\n",
    "\n",
    "    response = llama_model.create_chat_completion(messages=messages)\n",
    "\n",
    "    response_text = response['choices'][0]['message']['content']\n",
    "\n",
    "\n",
    "    return response, response_text"
   ]
  },
  {
   "cell_type": "code",
   "execution_count": null,
   "id": "cc1fe2fe-2d58-4b02-86dd-5fad4048d9f7",
   "metadata": {},
   "outputs": [],
   "source": [
    "trials = enrollments.groupby('protocol_number').first().reset_index()\n",
    "trials.info()"
   ]
  },
  {
   "cell_type": "code",
   "execution_count": null,
   "id": "3ad5dff6-ca9f-4835-bc2f-b677c2b7fc29",
   "metadata": {},
   "outputs": [],
   "source": [
    "trials.head()"
   ]
  },
  {
   "cell_type": "code",
   "execution_count": null,
   "id": "02c3f97f-f625-41a3-bf1d-9f78c8ef375e",
   "metadata": {},
   "outputs": [],
   "source": [
    "%%capture\n",
    "frames = []\n",
    "for i in range(trials.shape[0]):\n",
    "    answer = summarize_trial_multi_cohort(trials.trial_text.iloc[i], llm)\n",
    "    frame = trials.iloc[[i]]\n",
    "    frame['cohorts'] = answer[1]\n",
    "    frames.append(frame)\n",
    "\n",
    "    if (i % 500 == 0) or i == (trials.shape[0] - 1):\n",
    "        output = pd.concat(frames, axis=0)\n",
    "        output.to_csv('unique_trial_cohorts_6-27-24.csv')"
   ]
  },
  {
   "cell_type": "code",
   "execution_count": null,
   "id": "95776dbe-1a25-44bd-90f8-5c1573b6e92a",
   "metadata": {},
   "outputs": [],
   "source": [
    "import pandas as pd\n",
    "import numpy as np\n",
    "output = pd.read_csv('unique_trial_cohorts_6-27-24.csv')"
   ]
  },
  {
   "cell_type": "code",
   "execution_count": null,
   "id": "9cc06840-5647-4524-a7bf-a1ad53a07b7c",
   "metadata": {},
   "outputs": [],
   "source": [
    "frames = []\n",
    "for i in range(output.shape[0]):\n",
    "    cohorts = pd.Series(output.iloc[i].cohorts.split(\"\\n\"))\n",
    "    cohorts = cohorts[~((cohorts.isnull()) | (cohorts == \"\\n\") | (cohorts == ''))].reset_index(drop=True)\n",
    "    frame = pd.DataFrame(np.repeat(output.iloc[[i]], len(cohorts), axis=0), columns=output.columns)\n",
    "    frame['this_cohort'] = cohorts\n",
    "    frame['cohort_number'] = frame.index\n",
    "    frames.append(frame)\n",
    "    "
   ]
  },
  {
   "cell_type": "code",
   "execution_count": null,
   "id": "541669eb-f92e-49f3-9a36-b6625448c1a4",
   "metadata": {},
   "outputs": [],
   "source": [
    "cohort_level_trials = pd.concat(frames, axis=0)"
   ]
  },
  {
   "cell_type": "code",
   "execution_count": null,
   "id": "51a04e84-7483-4398-b4a0-d0cdab790609",
   "metadata": {},
   "outputs": [],
   "source": [
    "cohort_level_trials.info()"
   ]
  },
  {
   "cell_type": "code",
   "execution_count": null,
   "id": "648f0e1e-ef81-4983-8f03-1fbdb138f649",
   "metadata": {},
   "outputs": [],
   "source": []
  },
  {
   "cell_type": "code",
   "execution_count": null,
   "id": "ff12bed9-42fb-4841-9a08-fac1210c0f2f",
   "metadata": {},
   "outputs": [],
   "source": [
    "cohort_level_trials = cohort_level_trials[['protocol_number','study_nm','protocol_nbr','nct_id','title','brief_summary','detailed_summary','eligibility_criteria','trial_text','cohorts','this_cohort', 'cohort_number']]"
   ]
  },
  {
   "cell_type": "code",
   "execution_count": null,
   "id": "b64d5b51-67a8-487f-80a2-77a9251798a9",
   "metadata": {},
   "outputs": [],
   "source": [
    "cohort_level_trials = cohort_level_trials[cohort_level_trials.this_cohort.str[0].isin(['1','2','3','4','5','6','7','8','9'])]"
   ]
  },
  {
   "cell_type": "code",
   "execution_count": null,
   "id": "00d2220a-627a-4b67-be28-c42561c3c964",
   "metadata": {},
   "outputs": [],
   "source": [
    "cohort_level_trials.to_csv('trial_cohort_lineitems_6-27-24.csv')"
   ]
  },
  {
   "cell_type": "code",
   "execution_count": null,
   "id": "a130e909-6629-4408-b1ad-201b319d5e0f",
   "metadata": {},
   "outputs": [],
   "source": []
  }
 ],
 "metadata": {
  "kernelspec": {
   "display_name": "Python 3 (ipykernel)",
   "language": "python",
   "name": "python3"
  },
  "language_info": {
   "codemirror_mode": {
    "name": "ipython",
    "version": 3
   },
   "file_extension": ".py",
   "mimetype": "text/x-python",
   "name": "python",
   "nbconvert_exporter": "python",
   "pygments_lexer": "ipython3",
   "version": "3.12.2"
  }
 },
 "nbformat": 4,
 "nbformat_minor": 5
}
