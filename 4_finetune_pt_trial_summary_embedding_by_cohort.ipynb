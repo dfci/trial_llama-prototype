{
 "cells": [
  {
   "cell_type": "code",
   "execution_count": null,
   "id": "81b83fa8-421d-4be5-b9eb-5892f01fd5b0",
   "metadata": {},
   "outputs": [],
   "source": [
    "import pandas as pd\n",
    "import numpy as np\n",
    "import os\n",
    "from sentence_transformers import SentenceTransformer, InputExample, losses\n",
    "from torch.utils.data import DataLoader\n",
    "import torch.nn.functional as F\n",
    "import torch\n",
    "from sklearn.metrics import roc_auc_score"
   ]
  },
  {
   "cell_type": "code",
   "execution_count": null,
   "id": "1752f044-67e0-4893-b4bd-6793c1554956",
   "metadata": {},
   "outputs": [],
   "source": [
    "# this notebook fine-tunes an open general text embedding model to better embed patients and trial cohorts \n",
    "# on which they might enroll closer together."
   ]
  },
  {
   "cell_type": "code",
   "execution_count": null,
   "id": "df4343bf-a9a2-4596-a02b-a98e808d6442",
   "metadata": {},
   "outputs": [],
   "source": [
    "prefix = '/data/clin_notes_outcomes/meta/2024/v2/'"
   ]
  },
  {
   "cell_type": "code",
   "execution_count": null,
   "id": "06356023-af80-4b0c-a3b3-d1e264c0d11a",
   "metadata": {},
   "outputs": [],
   "source": [
    "cohort_checks = pd.read_csv('cohort_specific_eligibility_checks.csv')"
   ]
  },
  {
   "cell_type": "code",
   "execution_count": null,
   "id": "e6116789-d8e3-4e85-8ba0-bc9334997f44",
   "metadata": {},
   "outputs": [],
   "source": [
    "# frequency distribution of prior llama checks of candidate patient-cohhort combinations\n",
    "cohort_checks.eligibility_result.value_counts()"
   ]
  },
  {
   "cell_type": "code",
   "execution_count": null,
   "id": "e1d0126e-a58d-41ca-ad2f-a2d37bc585ad",
   "metadata": {},
   "outputs": [],
   "source": [
    "# train only on llama-checked patient-cohort matches\n",
    "train_summaries = cohort_checks[cohort_checks.split=='train']\n",
    "train_summaries = train_summaries[train_summaries.eligibility_result == 1]\n",
    "train_summaries.split.value_counts()"
   ]
  },
  {
   "cell_type": "code",
   "execution_count": null,
   "id": "c19a7479-17d2-4a5d-9202-d2bea4d47084",
   "metadata": {},
   "outputs": [],
   "source": [
    "example_list = []\n",
    "for i in range(train_summaries.shape[0]):\n",
    "    example_list.append(InputExample(texts=[train_summaries.patient_summary.iloc[i], train_summaries.this_cohort.iloc[i]]))"
   ]
  },
  {
   "cell_type": "code",
   "execution_count": null,
   "id": "cbe1c62c-3c8a-4bf7-97fc-7e51d9d8fca3",
   "metadata": {},
   "outputs": [],
   "source": [
    "import torch\n",
    "temp = torch.tensor([0]).to('cuda')"
   ]
  },
  {
   "cell_type": "code",
   "execution_count": null,
   "id": "937cbcda-0cd6-47f7-b52e-17ed2bafce3d",
   "metadata": {},
   "outputs": [],
   "source": [
    "model = SentenceTransformer(\"Snowflake/snowflake-arctic-embed-l\", trust_remote_code=True, device='cuda')\n"
   ]
  },
  {
   "cell_type": "code",
   "execution_count": null,
   "id": "dc06564f-efe7-4508-b83d-1433c6e6e70f",
   "metadata": {},
   "outputs": [],
   "source": [
    "train_dataloader = DataLoader(example_list, shuffle=True, batch_size=16)\n",
    "train_loss = losses.MultipleNegativesRankingLoss(model=model)"
   ]
  },
  {
   "cell_type": "code",
   "execution_count": null,
   "id": "01db16e3-0472-49d2-aef1-068353a8ba33",
   "metadata": {},
   "outputs": [],
   "source": [
    "%%capture\n",
    "model.fit(train_objectives=[(train_dataloader, train_loss)], epochs=10, warmup_steps=100)\n",
    "model.save('pt_trial_summary_percohort_finetuned_2024_deid.model')"
   ]
  },
  {
   "cell_type": "code",
   "execution_count": null,
   "id": "c9cb6021-21d8-44bf-b440-980fcdae3b3d",
   "metadata": {},
   "outputs": [],
   "source": []
  },
  {
   "cell_type": "code",
   "execution_count": null,
   "id": "bae79a2e-4357-4c90-ba4c-a08b1206a99d",
   "metadata": {},
   "outputs": [],
   "source": [
    "model = SentenceTransformer('pt_trial_summary_percohort_finetuned_2024.model', trust_remote_code=True, device='cuda')"
   ]
  },
  {
   "cell_type": "code",
   "execution_count": null,
   "id": "d6b25941-0007-4347-9ef3-899f9258542a",
   "metadata": {},
   "outputs": [],
   "source": [
    "# evaluate fine-tuned model on validation/tune set\n",
    "validation_set = cohort_checks[cohort_checks.split=='validation']\n",
    "validation_set.info()\n"
   ]
  },
  {
   "cell_type": "code",
   "execution_count": null,
   "id": "479b9905-fcd6-4d37-9b03-7bbbfb88f123",
   "metadata": {},
   "outputs": [],
   "source": [
    "patient_summary_embeddings = model.encode(validation_set.patient_summary.tolist())\n",
    "trial_summary_embeddings = model.encode(validation_set.this_cohort.tolist())"
   ]
  },
  {
   "cell_type": "code",
   "execution_count": null,
   "id": "9b8f3a40-0854-43a5-bd83-a7fe6770f52b",
   "metadata": {},
   "outputs": [],
   "source": [
    "# evaluate ability of cosine similarity to predict whether a given patient could have enrolled on a given trial cohort\n",
    "import random\n",
    "labels = []\n",
    "similarities = []\n",
    "for i in range(trial_summary_embeddings.shape[0]):\n",
    "    if random.choice([0,1]) == 1:\n",
    "        similarities.append(F.cosine_similarity(torch.tensor(patient_summary_embeddings[i,:]).unsqueeze(0), torch.tensor(trial_summary_embeddings[i, :]).unsqueeze(0)))\n",
    "        labels.append(1.)\n",
    "    else:\n",
    "        random_index = random.choice([x for x in range(0,trial_summary_embeddings.shape[0])])\n",
    "        similarities.append(F.cosine_similarity(torch.tensor(patient_summary_embeddings[i,:]).unsqueeze(0), torch.tensor(trial_summary_embeddings[random_index, :]).unsqueeze(0)))\n",
    "        labels.append(0.)"
   ]
  },
  {
   "cell_type": "code",
   "execution_count": null,
   "id": "09fe657d-5b95-4746-983a-def1c2cb7f8b",
   "metadata": {},
   "outputs": [],
   "source": [
    "roc_auc_score(labels, np.array([x.numpy() for x in similarities]))"
   ]
  },
  {
   "cell_type": "code",
   "execution_count": null,
   "id": "aafb5fde-3370-484e-85d8-9922aec20e46",
   "metadata": {},
   "outputs": [],
   "source": []
  },
  {
   "cell_type": "code",
   "execution_count": null,
   "id": "e887cc2d-ec2c-475d-ae4a-12704f4f1371",
   "metadata": {},
   "outputs": [],
   "source": []
  },
  {
   "cell_type": "code",
   "execution_count": null,
   "id": "8eebe69e-2070-480d-a21b-9370f4fd1e72",
   "metadata": {},
   "outputs": [],
   "source": []
  },
  {
   "cell_type": "code",
   "execution_count": null,
   "id": "aa46d29a-d2d7-4cd2-ace3-feb613e321a3",
   "metadata": {},
   "outputs": [],
   "source": []
  }
 ],
 "metadata": {
  "kernelspec": {
   "display_name": "Python 3 (ipykernel)",
   "language": "python",
   "name": "python3"
  },
  "language_info": {
   "codemirror_mode": {
    "name": "ipython",
    "version": 3
   },
   "file_extension": ".py",
   "mimetype": "text/x-python",
   "name": "python",
   "nbconvert_exporter": "python",
   "pygments_lexer": "ipython3",
   "version": "3.12.2"
  }
 },
 "nbformat": 4,
 "nbformat_minor": 5
}
