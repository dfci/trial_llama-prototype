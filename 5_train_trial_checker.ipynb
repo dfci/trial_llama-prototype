{
 "cells": [
  {
   "cell_type": "code",
   "execution_count": null,
   "id": "da78b443-8f9a-426d-8ac1-2320dc10f1d6",
   "metadata": {},
   "outputs": [],
   "source": [
    "import pandas as pd\n",
    "import numpy as np"
   ]
  },
  {
   "cell_type": "code",
   "execution_count": null,
   "id": "dc35107e-9e7f-4fc1-b794-c56086c01bfc",
   "metadata": {},
   "outputs": [],
   "source": [
    "# this notebook trains a smaller Transformer model to try to predict whether Llama would have \n",
    "# declared a given patient and trial cohort to be a reasonable combination\n",
    "dataset = pd.read_csv('cohort_specific_eligibility_checks.csv')"
   ]
  },
  {
   "cell_type": "code",
   "execution_count": null,
   "id": "7f676a3e-a69c-411e-942a-e9bcc61200eb",
   "metadata": {},
   "outputs": [],
   "source": [
    "dataset.info()"
   ]
  },
  {
   "cell_type": "code",
   "execution_count": null,
   "id": "ad19f619-a2c6-4695-afb4-3dca238ebb15",
   "metadata": {},
   "outputs": [],
   "source": [
    "dataset['eligibility_result'] = dataset.eligibility_result.astype(int)"
   ]
  },
  {
   "cell_type": "code",
   "execution_count": null,
   "id": "ac98fba8-e6d2-4753-bb41-8974c2be8150",
   "metadata": {},
   "outputs": [],
   "source": [
    "from transformers import AutoTokenizer"
   ]
  },
  {
   "cell_type": "code",
   "execution_count": null,
   "id": "b4dc4a2e-1ed1-429e-8a6e-4e55605980f3",
   "metadata": {},
   "outputs": [],
   "source": [
    "dataset['pt_trial_pair'] = dataset['patient_summary'] + \"\\nNow here is the trial cohort:\" + dataset['this_cohort']"
   ]
  },
  {
   "cell_type": "code",
   "execution_count": null,
   "id": "629c469c-8a08-4a1b-bc08-8582f2b0d83e",
   "metadata": {},
   "outputs": [],
   "source": [
    "dataset=dataset[dataset.split != 'test']\n",
    "dataset = dataset[['pt_trial_pair', 'eligibility_result', 'split']].rename(columns={'pt_trial_pair':'text','eligibility_result':'label'})"
   ]
  },
  {
   "cell_type": "code",
   "execution_count": null,
   "id": "836103ab-8e4d-40ab-b18e-fec4b285fee1",
   "metadata": {},
   "outputs": [],
   "source": [
    "from datasets import Dataset, DatasetDict"
   ]
  },
  {
   "cell_type": "code",
   "execution_count": null,
   "id": "6b573d4e-a147-4e94-b540-13f820762708",
   "metadata": {},
   "outputs": [],
   "source": [
    "train_ds = Dataset.from_pandas(dataset[dataset.split=='train'])\n",
    "valid_ds = Dataset.from_pandas(dataset[dataset.split=='validation'])"
   ]
  },
  {
   "cell_type": "code",
   "execution_count": null,
   "id": "42017e33-47b1-4bdd-82fe-9d74e4a8007f",
   "metadata": {},
   "outputs": [],
   "source": [
    "data_dict = DatasetDict({\"train\":train_ds, \"valid\":valid_ds})"
   ]
  },
  {
   "cell_type": "code",
   "execution_count": null,
   "id": "219351fb-8022-43c1-a607-d65a540edf59",
   "metadata": {},
   "outputs": [],
   "source": [
    "data_dict"
   ]
  },
  {
   "cell_type": "code",
   "execution_count": null,
   "id": "42ff019f-e99d-4e2b-b773-658e5d4e7887",
   "metadata": {},
   "outputs": [],
   "source": [
    "tokenizer = AutoTokenizer.from_pretrained(\"medicalai/ClinicalBERT\")\n",
    "#tokenizer.pad_token = tokenizer.eos_token"
   ]
  },
  {
   "cell_type": "code",
   "execution_count": null,
   "id": "3bdb10d6-7ee3-4817-9fe4-0218dec09f9e",
   "metadata": {},
   "outputs": [],
   "source": [
    "def preprocess_function(examples):\n",
    "    return tokenizer(examples[\"text\"], truncation=True, max_length=512)"
   ]
  },
  {
   "cell_type": "code",
   "execution_count": null,
   "id": "55a20161-8ad8-4131-afe2-b0a0a6f4cf64",
   "metadata": {},
   "outputs": [],
   "source": [
    "tokenized_data = data_dict.map(preprocess_function, batched=True)"
   ]
  },
  {
   "cell_type": "code",
   "execution_count": null,
   "id": "702eeb07-2aa8-4a54-947c-4b5c69c009d2",
   "metadata": {},
   "outputs": [],
   "source": [
    "from transformers import DataCollatorWithPadding"
   ]
  },
  {
   "cell_type": "code",
   "execution_count": null,
   "id": "ae972532-13b8-43fb-8120-52df0c056e2a",
   "metadata": {},
   "outputs": [],
   "source": [
    "data_collator = DataCollatorWithPadding(tokenizer=tokenizer)"
   ]
  },
  {
   "cell_type": "code",
   "execution_count": null,
   "id": "e5be9147-7090-4e37-910a-43e8b6e32e98",
   "metadata": {},
   "outputs": [],
   "source": [
    "import evaluate\n",
    "auroc = evaluate.load('roc_auc')"
   ]
  },
  {
   "cell_type": "code",
   "execution_count": null,
   "id": "29d4b4c8-32fa-40e7-85b3-0653e19295cb",
   "metadata": {},
   "outputs": [],
   "source": [
    "def compute_metrics(eval_pred):\n",
    "    predictions, labels = eval_pred\n",
    "    #predictions = np.argmax(predictions, axis=1)\n",
    "    return auroc.compute(predictions=predictions, references=labels)"
   ]
  },
  {
   "cell_type": "code",
   "execution_count": null,
   "id": "e85bba49-e392-45dc-8f64-025cf4eb0a13",
   "metadata": {},
   "outputs": [],
   "source": [
    "id2label = {0: \"NEGATIVE\", 1: \"POSITIVE\"}\n",
    "label2id = {\"NEGATIVE\": 0, \"POSITIVE\": 1}"
   ]
  },
  {
   "cell_type": "code",
   "execution_count": null,
   "id": "d42afa06-e5d7-409b-b8be-0a30a046519a",
   "metadata": {},
   "outputs": [],
   "source": [
    "from transformers import AutoModelForSequenceClassification, TrainingArguments, Trainer"
   ]
  },
  {
   "cell_type": "code",
   "execution_count": null,
   "id": "22d21854-136b-4d3f-bc64-a97c58c46a8f",
   "metadata": {},
   "outputs": [],
   "source": [
    "model = AutoModelForSequenceClassification.from_pretrained(\n",
    "    \"medicalai/ClinicalBERT\", num_labels=2, id2label=id2label, label2id=label2id\n",
    ")\n",
    "#model.config.pad_token_id = model.config.eos_token_id\n"
   ]
  },
  {
   "cell_type": "code",
   "execution_count": null,
   "id": "8e5a0d75-3b24-4a49-a48d-1f9aea2666c1",
   "metadata": {},
   "outputs": [],
   "source": [
    "training_args = TrainingArguments(\n",
    "    output_dir=\"bert_checker\",\n",
    "    learning_rate=2e-5,\n",
    "    per_device_train_batch_size=16,\n",
    "    per_device_eval_batch_size=16,\n",
    "    num_train_epochs=5,\n",
    "    weight_decay=0.01,\n",
    "    #evaluation_strategy=\"epoch\",\n",
    "    save_strategy=\"epoch\",\n",
    "    #load_best_model_at_end=True,\n",
    "    push_to_hub=False,\n",
    ")"
   ]
  },
  {
   "cell_type": "code",
   "execution_count": null,
   "id": "4baaa68f-8307-4436-b4f1-6834a08d782f",
   "metadata": {},
   "outputs": [],
   "source": [
    "trainer = Trainer(\n",
    "    model=model,\n",
    "    args=training_args,\n",
    "    train_dataset=tokenized_data[\"train\"],\n",
    "    #eval_dataset=tokenized_data[\"valid\"],\n",
    "    tokenizer=tokenizer,\n",
    "    data_collator=data_collator\n",
    "    #compute_metrics=compute_metrics,\n",
    ")"
   ]
  },
  {
   "cell_type": "code",
   "execution_count": null,
   "id": "818c6c98-b301-4af6-b712-b1639361a5a3",
   "metadata": {},
   "outputs": [],
   "source": [
    "trainer.train()"
   ]
  },
  {
   "cell_type": "code",
   "execution_count": null,
   "id": "ab5365c1-fd2e-4849-8449-ea9e986badc0",
   "metadata": {},
   "outputs": [],
   "source": [
    "# evaluate bert-checker model on the task of predicting llama's evaluation of whether a given patient-cohort\n",
    "# combination is reasonable\n",
    "predictions = trainer.predict(tokenized_data['valid'])"
   ]
  },
  {
   "cell_type": "code",
   "execution_count": null,
   "id": "bb6428fc-ba3b-4d9b-8f92-75bf71810765",
   "metadata": {},
   "outputs": [],
   "source": [
    "from sklearn.metrics import roc_auc_score"
   ]
  },
  {
   "cell_type": "code",
   "execution_count": null,
   "id": "291dedfe-b07a-485b-aa5e-6dde301b5c27",
   "metadata": {},
   "outputs": [],
   "source": [
    "roc_auc_score(predictions[1], predictions[0][:,1])"
   ]
  },
  {
   "cell_type": "code",
   "execution_count": null,
   "id": "aa1cf653-7941-4828-a786-10e2d8084533",
   "metadata": {},
   "outputs": [],
   "source": [
    "model.save_pretrained('bert-checker')"
   ]
  },
  {
   "cell_type": "code",
   "execution_count": null,
   "id": "47b983df-d6f7-41d8-8c98-354f395c098e",
   "metadata": {},
   "outputs": [],
   "source": []
  }
 ],
 "metadata": {
  "kernelspec": {
   "display_name": "Python 3 (ipykernel)",
   "language": "python",
   "name": "python3"
  },
  "language_info": {
   "codemirror_mode": {
    "name": "ipython",
    "version": 3
   },
   "file_extension": ".py",
   "mimetype": "text/x-python",
   "name": "python",
   "nbconvert_exporter": "python",
   "pygments_lexer": "ipython3",
   "version": "3.12.2"
  }
 },
 "nbformat": 4,
 "nbformat_minor": 5
}
