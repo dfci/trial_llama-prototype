{
 "cells": [
  {
   "cell_type": "code",
   "execution_count": null,
   "id": "2f6ed92f-6341-466f-9fc5-7b70b705c3c0",
   "metadata": {},
   "outputs": [],
   "source": [
    "import numpy as np\n",
    "import pandas as pd\n",
    "import json"
   ]
  },
  {
   "cell_type": "code",
   "execution_count": null,
   "id": "552cef3c-f1d2-461c-8d8b-c8a11cdfc5aa",
   "metadata": {},
   "outputs": [],
   "source": [
    "# this notebook pulls in information about each clinical trial from clinicaltrials.gov based on the NCT ID,\n",
    "# then merges it to patient enrollment information, thereby creating a retrospective trail matching training and evaluation dataset."
   ]
  },
  {
   "cell_type": "code",
   "execution_count": null,
   "id": "bbd198c7-c6b5-4d6f-b1c5-bbf8cded8739",
   "metadata": {},
   "outputs": [],
   "source": [
    "\n",
    "#  OnCore database at DFCI has internal DFCI protocol number and external NCT_ID\n",
    "oncore = pd.read_csv('../structured_data/oncore_all.clean.csv')\n",
    "oncore = oncore[oncore.protocol_type == 'Treatment']\n",
    "oncore = oncore[['protocol_no','nct_id']].rename(columns={'protocol_no':'protocol_number'})\n",
    "oncore = oncore[~oncore.nct_id.isnull()]\n",
    "oncore = oncore.groupby('nct_id').first().reset_index()"
   ]
  },
  {
   "cell_type": "code",
   "execution_count": null,
   "id": "3ab108ac-14f3-4b1c-b36e-39d7ae7f2b2c",
   "metadata": {},
   "outputs": [],
   "source": [
    "oncore.info()"
   ]
  },
  {
   "cell_type": "code",
   "execution_count": null,
   "id": "cb6a67a0-e61b-4c97-b84a-25cabadc0b66",
   "metadata": {},
   "outputs": [],
   "source": [
    "# pull title, summary, eligibility criteria from ct.gov\n",
    "import requests\n",
    "\n",
    "chunks = np.array_split(oncore.nct_id, trial_frame.shape[0] // 4 + 1)\n",
    "trial_list = []\n",
    "\n",
    "for chunk in chunks:\n",
    "    base_url = \"https://clinicaltrials.gov/api/v2/studies\"\n",
    "    params = {\"query.term\": \",\".join(chunk.tolist()), \"format\": \"json\"}\n",
    "\n",
    "    response = requests.get(base_url, params=params)\n",
    "    responses = response.json()\n",
    "\n",
    "    # Process the data as needed (e.g., create a DataFrame)\n",
    "    # ...\n",
    "    for trial_dict in responses['studies']:\n",
    "\n",
    "        nct_id = protocol_number = title = brief_summary = is_drug = detailed_summary = eligibility_criteria = ''\n",
    "        nct_id = trial_dict['protocolSection']['identificationModule']['nctId']\n",
    "        protocol_number = trial_dict['protocolSection']['identificationModule']['orgStudyIdInfo']['id']\n",
    "        title = trial_dict['protocolSection']['identificationModule'].get('officialTitle')\n",
    "        if not trial_dict['protocolSection'].get('descriptionModule') is None:\n",
    "            brief_summary = trial_dict['protocolSection']['descriptionModule']['briefSummary']\n",
    "        if not trial_dict['protocolSection'].get('oversightModule') is None:\n",
    "            is_drug = trial_dict['protocolSection'].get('oversightModule').get('isFdaRegulatedDrug')\n",
    "        if not trial_dict['protocolSection'].get('descriptionModule') is None:\n",
    "            detailed_summary = trial_dict['protocolSection']['descriptionModule'].get('detailedDescription')\n",
    "        if not trial_dict['protocolSection'].get('eligibilityModule') is None:\n",
    "            eligibility_criteria = trial_dict['protocolSection']['eligibilityModule']['eligibilityCriteria']\n",
    "        frame = pd.DataFrame(data={'nct_id':[nct_id], \n",
    "                                  'title':[title],\n",
    "                                  'brief_summary':[brief_summary],\n",
    "                                   'is_drug':[is_drug],\n",
    "                                   'detailed_summary':[detailed_summary],\n",
    "                                   'eligibility_criteria':[eligibility_criteria]\n",
    "                                  }).astype(str).replace('nan', '')\n",
    "        \n",
    "        trial_list.append(frame)\n",
    "\n"
   ]
  },
  {
   "cell_type": "code",
   "execution_count": null,
   "id": "23ae0e4f-f5c3-42f6-bf27-43d5a47be300",
   "metadata": {},
   "outputs": [],
   "source": [
    "len(trial_list)"
   ]
  },
  {
   "cell_type": "code",
   "execution_count": null,
   "id": "f2f6991d-2b47-4a96-b283-e5fa72f79e89",
   "metadata": {},
   "outputs": [],
   "source": [
    "trial_frame = pd.concat(trial_list, axis=0)\n",
    "trial_frame = trial_frame.groupby('nct_id').first()\n",
    "trial_frame.info()"
   ]
  },
  {
   "cell_type": "code",
   "execution_count": null,
   "id": "a1558eb9-6d99-4cd1-a313-9fab2d350d82",
   "metadata": {},
   "outputs": [],
   "source": [
    "trial_frame = trial_frame[~(trial_frame.brief_summary == '')]\n",
    "trial_frame.info()"
   ]
  },
  {
   "cell_type": "code",
   "execution_count": null,
   "id": "058f9eaa-05e5-430d-9053-704e338d4f51",
   "metadata": {},
   "outputs": [],
   "source": [
    "trial_frame = pd.merge(oncore, trial_frame, on='nct_id')\n",
    "trial_frame.info()"
   ]
  },
  {
   "cell_type": "code",
   "execution_count": null,
   "id": "1b60b253-2608-49b4-ae28-2123811cde31",
   "metadata": {},
   "outputs": [],
   "source": [
    "# pull in actual trial enrollments at DFCI \n",
    "enrollments = pd.read_csv('/data/clin_notes_outcomes/pan_dfci_2024/structured_data/PROTOCOL_ENROLLMENT_DFHCC.txt', sep='|', encoding='ISO-8859-1', low_memory=False)\n",
    "enrollments = enrollments[enrollments.TREATMENT_TYPE_CD == 'Tre']\n",
    "enrollments = enrollments[~enrollments.TREATMENT_START_DT.isnull()]\n",
    "\n",
    "enrollments = enrollments[['DFCI_MRN', 'STUDY_NM', 'STUDY_NBR','TREATMENT_START_DT']].rename(columns={'DFCI_MRN':'dfci_mrn',\n",
    "                                                                                          'STUDY_NM':'study_nm',\n",
    "                                                                                                      'STUDY_NBR':'protocol_nbr',\n",
    "                                                                                          'TREATMENT_START_DT':'trial_start_dt'})\n",
    "\n",
    "\n",
    "\n",
    "# this gets rid of unspecified active protocols that are being masked\n",
    "known_enrollments = enrollments[~enrollments.protocol_nbr.isnull()]\n"
   ]
  },
  {
   "cell_type": "code",
   "execution_count": null,
   "id": "849b483e-5afa-4d28-9ba4-aa38745efa19",
   "metadata": {},
   "outputs": [],
   "source": [
    "known_enrollments.info()"
   ]
  },
  {
   "cell_type": "code",
   "execution_count": null,
   "id": "58c1221c-0058-4ab2-9af2-c114a3b225de",
   "metadata": {},
   "outputs": [],
   "source": [
    "known_enrollments.groupby(['dfci_mrn','protocol_nbr']).first().info()"
   ]
  },
  {
   "cell_type": "code",
   "execution_count": null,
   "id": "e49865d4-54d6-4417-bc42-7dd497866fd6",
   "metadata": {},
   "outputs": [],
   "source": [
    "trial_frame['protocol_nbr'] = pd.to_numeric(trial_frame['protocol_number'].str.replace('-',''))"
   ]
  },
  {
   "cell_type": "code",
   "execution_count": null,
   "id": "e7b7d9fd-8514-457f-ba2f-c2b8f54c0e1e",
   "metadata": {},
   "outputs": [],
   "source": [
    "trial_frame"
   ]
  },
  {
   "cell_type": "code",
   "execution_count": null,
   "id": "f5e6298b-b56b-4be4-a132-fc1727803345",
   "metadata": {},
   "outputs": [],
   "source": [
    "# merge actual retrospective trial enrollments from DFCI to trial criteria from clinicaltrials.gov\n",
    "useful_enrollments = pd.merge(known_enrollments, trial_frame, on='protocol_nbr')"
   ]
  },
  {
   "cell_type": "code",
   "execution_count": null,
   "id": "dd005f3f-16bd-4b98-ab8d-743c2534c03c",
   "metadata": {},
   "outputs": [],
   "source": [
    "useful_enrollments.info()"
   ]
  },
  {
   "cell_type": "code",
   "execution_count": null,
   "id": "6f937edb-4109-4221-98ee-cfe2dce8e945",
   "metadata": {},
   "outputs": [],
   "source": [
    "useful_enrollments.dfci_mrn.nunique()"
   ]
  },
  {
   "cell_type": "code",
   "execution_count": null,
   "id": "14f2909b-3dba-4287-a93a-b0cf10092151",
   "metadata": {},
   "outputs": [],
   "source": [
    "useful_enrollments['trial_text'] = useful_enrollments['title'] + \"\\n\" + useful_enrollments['brief_summary'] + \"\\n\" + useful_enrollments['eligibility_criteria']"
   ]
  },
  {
   "cell_type": "code",
   "execution_count": null,
   "id": "c82216a0-00de-4767-b629-86d2c7e7240b",
   "metadata": {},
   "outputs": [],
   "source": [
    "useful_enrollments['trial_text'] = useful_enrollments.trial_text.str.replace(\"\\\\s+\", \" \", regex=True)\n",
    "\n",
    "\n"
   ]
  },
  {
   "cell_type": "code",
   "execution_count": null,
   "id": "3b553980-fafc-4e7d-b9b2-a173f63fa054",
   "metadata": {},
   "outputs": [],
   "source": [
    "useful_enrollments.to_csv('/data/clin_notes_outcomes/pan_dfci_2024/derived_data/useful_trial_enrollments.csv')"
   ]
  },
  {
   "cell_type": "code",
   "execution_count": null,
   "id": "e6fc7a96-d21b-453b-af6f-f7e1b0366418",
   "metadata": {},
   "outputs": [],
   "source": []
  }
 ],
 "metadata": {
  "kernelspec": {
   "display_name": "Python 3 (ipykernel)",
   "language": "python",
   "name": "python3"
  },
  "language_info": {
   "codemirror_mode": {
    "name": "ipython",
    "version": 3
   },
   "file_extension": ".py",
   "mimetype": "text/x-python",
   "name": "python",
   "nbconvert_exporter": "python",
   "pygments_lexer": "ipython3",
   "version": "3.12.2"
  }
 },
 "nbformat": 4,
 "nbformat_minor": 5
}
