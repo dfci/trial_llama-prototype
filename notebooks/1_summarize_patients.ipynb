{
 "cells": [
  {
   "cell_type": "code",
   "execution_count": null,
   "id": "a3d6ff53-2176-44aa-8590-ec0aa301342d",
   "metadata": {},
   "outputs": [],
   "source": [
    "from llama_cpp import Llama\n",
    "import pandas as pd\n",
    "import numpy as np\n",
    "import torch.nn.functional as F\n",
    "import torch\n",
    "from transformers import AutoTokenizer\n",
    "from transformers import AutoModelForCausalLM\n",
    "import re\n",
    "import os\n"
   ]
  },
  {
   "cell_type": "code",
   "execution_count": null,
   "id": "4576761f-9f06-48cb-902f-85e6b2c2f436",
   "metadata": {},
   "outputs": [],
   "source": [
    "# this notebook uses Llama to generate brief summaries for each patient who enrolled on a clinical trial using our retrospective\n",
    "# enrollment dataset"
   ]
  },
  {
   "cell_type": "code",
   "execution_count": null,
   "id": "62669512-19e7-43cd-a518-4572eea700af",
   "metadata": {},
   "outputs": [],
   "source": [
    "llm = Llama.from_pretrained(\n",
    "    repo_id=\"lmstudio-community/Meta-Llama-3-70B-Instruct-GGUF\",\n",
    "    filename=\"*Q4*\",\n",
    "    verbose=False,\n",
    "    local_dir = '/data/clin_notes_outcomes/meta/',\n",
    "    cache_dir = '/data/clin_notes_outcomes/meta/',\n",
    "    main_gpu=1,\n",
    "    n_ctx=8192,\n",
    "    n_gpu_layers=-1\n",
    ")"
   ]
  },
  {
   "cell_type": "code",
   "execution_count": null,
   "id": "63e7b4e5-1555-48fd-9ff5-4d57ebc5f053",
   "metadata": {},
   "outputs": [],
   "source": [
    "tokenizer = AutoTokenizer.from_pretrained(\"meta-llama/Meta-Llama-3-8B-Instruct\")"
   ]
  },
  {
   "cell_type": "code",
   "execution_count": null,
   "id": "35290eaa-2dfc-42b9-93c9-ccfe972eb5dc",
   "metadata": {},
   "outputs": [],
   "source": [
    "# test llama query\n",
    "response = llm.create_chat_completion(\n",
    "     messages=[{\n",
    "         \"role\": \"user\",\n",
    "         \"content\": \"what is the meaning of life?\"\n",
    "     }]\n",
    ")"
   ]
  },
  {
   "cell_type": "code",
   "execution_count": null,
   "id": "58cf8274-b448-4ffa-af79-8438dc708643",
   "metadata": {},
   "outputs": [],
   "source": [
    "response"
   ]
  },
  {
   "cell_type": "code",
   "execution_count": null,
   "id": "6444bf9b-f626-458b-a2a6-4fde283e8f58",
   "metadata": {},
   "outputs": [],
   "source": [
    "# function to split a patient's historical electronic health record document into smaller overlapping chunks for RAG purposes\n",
    "def split_text(text, chunk_size=100, overlap=10):\n",
    "    words = text.split()\n",
    "    chunks = []\n",
    "    current_index = 0\n",
    "    \n",
    "    while current_index < len(words):\n",
    "        end_index = current_index + chunk_size\n",
    "        chunks.append(' '.join(words[current_index:end_index]))\n",
    "        current_index = end_index - overlap\n",
    "        \n",
    "        # Ensure the last chunk contains at least chunk_size words\n",
    "        if len(words) - current_index < chunk_size:\n",
    "            chunks.append(' '.join(words[-chunk_size:]))\n",
    "            break\n",
    "\n",
    "    return chunks"
   ]
  },
  {
   "cell_type": "code",
   "execution_count": null,
   "id": "6861c13d-31a9-42a8-a642-30d47c8dc9e4",
   "metadata": {},
   "outputs": [],
   "source": [
    "# function to transform a list of historical EHR documents for a given patient into a list of embedding vectors, one per chunk from the documents\n",
    "def embed_patient(patient_dataframe, embedding_model):\n",
    "    patient_sentences = []\n",
    "    patient_dates = []\n",
    "    notes =  patient_dataframe.text.values.tolist()\n",
    "    for i, doc in enumerate(notes):\n",
    "        sentences = split_text(doc)\n",
    "        thisdate = patient_dataframe.date.iloc[i]\n",
    "        for sentence in sentences:\n",
    "            patient_sentences.append(sentence.strip())\n",
    "            patient_dates.append(thisdate)\n",
    "    \n",
    "    patient_embeddings = embedding_model.encode(patient_sentences)\n",
    "    \n",
    "    return patient_sentences, patient_dates, patient_embeddings"
   ]
  },
  {
   "cell_type": "code",
   "execution_count": null,
   "id": "67fb6e63-97fe-4eda-beb2-1455878ef2d3",
   "metadata": {},
   "outputs": [],
   "source": [
    "# function to generate a brief patient summary with Llama after using RAG to pull relevant EHR document chunks\n",
    "def summarize_patient(patient_sentences, patient_dates, patient_embeddings, embedding_model, llama_model, tokenizer, sentences_per_question=8):\n",
    "    \n",
    "    patient_sentences, indices = np.unique(patient_sentences, return_index = True)\n",
    "    patient_embeddings = patient_embeddings[indices, :]\n",
    "    patient_dates = patient_dates[indices]\n",
    "    \n",
    "    questions = [\"cancer types\",\n",
    "                 \"cancer stage or extent\",\n",
    "                 \"biomarkers, mutations, protein expression\",\n",
    "                 \"cancer treatments, such as surgery, chemotherapy, targeted therapy, immunotherapy, radiation, or transplant?\",\n",
    "                 \"major toxicities, adverse events, or side effects\"]\n",
    "    \n",
    "    frames = []\n",
    "    for question in questions:\n",
    "        query_embedding = embedding_model.encode([question], prompt_name=\"query\")\n",
    "        similarities = F.cosine_similarity(torch.tensor(query_embedding), torch.tensor(patient_embeddings))\n",
    "        sorted_similarities, sorted_indices = torch.sort(similarities, descending=True)\n",
    "        relevant_sentences = patient_sentences[sorted_indices[0:sentences_per_question].cpu().numpy()].tolist()\n",
    "        relevant_sentences = [x.replace(\"search_document: \", \"\") for x in relevant_sentences]\n",
    "        relevant_dates = patient_dates[sorted_indices[0:sentences_per_question].cpu().numpy()].tolist()\n",
    "        frame = pd.DataFrame({'sentences':relevant_sentences, 'dates':relevant_dates})\n",
    "        frame['dates'] = pd.to_datetime(frame.dates)\n",
    "        frames.append(frame)\n",
    "    frames = pd.concat(frames, axis=0).sort_values(by='dates')\n",
    "    relevant_sentences = \"\\n\".join(frames.sentences)\n",
    "\n",
    "\n",
    "\n",
    "    messages = [{'role':'system', 'content': \"\"\"You are an experienced clinical oncologist at a major cancer center.\n",
    "    Your job is to construct a summary of the cancer history for a patient based on an excerpt of the patient's electronic health record. The text in the excerpt is provided in chronological order.     \n",
    "    Phrase your summary as it it were the beginning of the assessment/plan section of a clinical note. Do not include the patient's name, but do include relevant dates whenever documented, including dates of diagnosis and start/stop dates of each treatment.\n",
    "\"\"\"\n",
    "    },\n",
    "                 {'role':'user', 'content': \"The excerpt is:\\n\" + relevant_sentences + \"\"\"Now, write your summary. No preceding text before the abstraction. This will not be used for clinical care, so do not write any disclaimers or cautionary notes.\"\"\"}\n",
    "    ]\n",
    "\n",
    "\n",
    "    trunc_messages = []\n",
    "    for message in messages:\n",
    "        message['content'] = tokenizer.decode(tokenizer.encode(message['content'])[1:7000])\n",
    "        trunc_messages.append(message)\n",
    "\n",
    "    response = llama_model.create_chat_completion(messages=trunc_messages, max_tokens=1000, temperature=0.2)\n",
    "\n",
    "    return response, response['choices'][0]['message']['content']\n",
    "\n",
    "\n",
    "    "
   ]
  },
  {
   "cell_type": "code",
   "execution_count": null,
   "id": "02b9f891-4b50-4b64-9954-8481056cba79",
   "metadata": {},
   "outputs": [],
   "source": []
  },
  {
   "cell_type": "code",
   "execution_count": null,
   "id": "e6f3df57-0ee7-43b2-b1da-6c20117d83a4",
   "metadata": {},
   "outputs": [],
   "source": []
  },
  {
   "cell_type": "code",
   "execution_count": null,
   "id": "e647771e-c97c-498f-bc54-d822dc44b5e0",
   "metadata": {},
   "outputs": [],
   "source": []
  },
  {
   "cell_type": "code",
   "execution_count": null,
   "id": "66a6a379-9e64-4f6a-9991-7cad58f9c12e",
   "metadata": {},
   "outputs": [],
   "source": [
    "from sentence_transformers import SentenceTransformer\n",
    "\n",
    "embedding_model = SentenceTransformer(\"Snowflake/snowflake-arctic-embed-l\", trust_remote_code=True, device='cuda:0')\n"
   ]
  },
  {
   "cell_type": "code",
   "execution_count": null,
   "id": "c6a489e7-2c2b-4eef-8837-25ed546861bf",
   "metadata": {},
   "outputs": [],
   "source": [
    "prefix = '/data/clin_notes_outcomes/pan_dfci_2024/derived_data/'"
   ]
  },
  {
   "cell_type": "code",
   "execution_count": null,
   "id": "064eef80-feae-407b-b2cd-ad7aa115c0de",
   "metadata": {},
   "outputs": [],
   "source": [
    "# pull in our large corpus of historical electronic health records data\n",
    "imaging = pd.read_parquet(prefix + 'all_imaging_reports.parquet')\n",
    "medonc = pd.read_parquet(prefix + 'all_clinical_notes.parquet')\n",
    "path = pd.read_parquet(prefix + 'all_path_reports.parquet')\n"
   ]
  },
  {
   "cell_type": "code",
   "execution_count": null,
   "id": "088f4db2-ef4e-45e6-bbf9-77cd94224e94",
   "metadata": {},
   "outputs": [],
   "source": [
    "all_reports = pd.concat([imaging, medonc, path], axis=0).sort_values(by=['dfci_mrn','date']).reset_index(drop=True)\n"
   ]
  },
  {
   "cell_type": "code",
   "execution_count": null,
   "id": "a5c5891d-2054-4283-aaaf-db9cc97c6e3b",
   "metadata": {},
   "outputs": [],
   "source": [
    "all_reports.info()"
   ]
  },
  {
   "cell_type": "code",
   "execution_count": null,
   "id": "35cf2cd9-866c-44d1-9b2a-c4ff897e9968",
   "metadata": {},
   "outputs": [],
   "source": [
    "all_reports.dfci_mrn.nunique()"
   ]
  },
  {
   "cell_type": "code",
   "execution_count": null,
   "id": "f236080a-f3a3-44cf-9279-3188db1c8ad3",
   "metadata": {},
   "outputs": [],
   "source": [
    "# restrict documents to those from the era of our current electronic health record, for which data are more complete\n",
    "recent_reports = all_reports[all_reports.date >= '2016-01-01']\n",
    "recent_reports.info()\n",
    "\n"
   ]
  },
  {
   "cell_type": "code",
   "execution_count": null,
   "id": "fa6ebeb2-2579-4eec-9757-33016b61b7c2",
   "metadata": {},
   "outputs": [],
   "source": [
    "recent_reports.dfci_mrn.nunique()"
   ]
  },
  {
   "cell_type": "code",
   "execution_count": null,
   "id": "85195169-30eb-444f-b620-2836549548e4",
   "metadata": {},
   "outputs": [],
   "source": [
    "train_notes = all_reports[all_reports.split=='train']"
   ]
  },
  {
   "cell_type": "code",
   "execution_count": null,
   "id": "2e0a0b3f-8e23-4b86-af9a-6a6db1a39112",
   "metadata": {},
   "outputs": [],
   "source": [
    "# pull our historical trial enrollment dataset, restrict it to the modern EHR era\n",
    "enrollments = pd.read_csv(prefix + 'useful_trial_enrollments.csv')\n",
    "enrollments['trial_start_dt'] = pd.to_datetime(enrollments.trial_start_dt)\n",
    "enrollments = enrollments[enrollments.trial_start_dt >= pd.to_datetime('2016-01-01')]"
   ]
  },
  {
   "cell_type": "code",
   "execution_count": null,
   "id": "f9efcedd-c8e6-4359-a3e3-731e14f4f2a2",
   "metadata": {},
   "outputs": [],
   "source": [
    "enrollments.info()"
   ]
  },
  {
   "cell_type": "code",
   "execution_count": null,
   "id": "67171129-d8d8-47e3-8147-13c93db8d351",
   "metadata": {},
   "outputs": [],
   "source": []
  },
  {
   "cell_type": "code",
   "execution_count": null,
   "id": "bd443d34-c5db-414e-9892-eec368ef7ad6",
   "metadata": {},
   "outputs": [],
   "source": []
  },
  {
   "cell_type": "code",
   "execution_count": null,
   "id": "bc6fae64-3794-4da6-ab9b-ae4c957d1f75",
   "metadata": {},
   "outputs": [],
   "source": [
    "train_enrollments = enrollments[enrollments.dfci_mrn.isin(train_notes.dfci_mrn)]"
   ]
  },
  {
   "cell_type": "code",
   "execution_count": null,
   "id": "6bf68667-2161-40f2-a693-3fd429afdaae",
   "metadata": {},
   "outputs": [],
   "source": [
    "#sample_enrollments = train_enrollments[train_enrollments.trial_text.str.contains('NSCLC')].sample(n=100)\n",
    "sample_enrollments = enrollments\n"
   ]
  },
  {
   "cell_type": "code",
   "execution_count": null,
   "id": "01d417ae-31ad-4678-9559-84ff90413d48",
   "metadata": {},
   "outputs": [],
   "source": []
  },
  {
   "cell_type": "code",
   "execution_count": null,
   "id": "71fb6aaf-e18e-4ee2-83fc-b4540a2b9e99",
   "metadata": {},
   "outputs": [],
   "source": []
  },
  {
   "cell_type": "code",
   "execution_count": null,
   "id": "121e6d80-017a-4e91-a381-00bafc3d4814",
   "metadata": {},
   "outputs": [],
   "source": []
  },
  {
   "cell_type": "code",
   "execution_count": null,
   "id": "e7cdedf1-c0a9-4536-934b-684ac9ca636d",
   "metadata": {},
   "outputs": [],
   "source": [
    "# generate a brief summary of each patient who enrolled in a trial in our retrospective dataset\n",
    "\n",
    "%%capture\n",
    "sample_enrollments = enrollments\n",
    "patient_summary_list = []\n",
    "patient_sentence_list = []\n",
    "patient_date_list = []\n",
    "patient_mrn_list = []\n",
    "patient_split_list = []\n",
    "protocol_number_list = []\n",
    "trial_text_list = []\n",
    "enrollment_date_list = []\n",
    "\n",
    "for i in range(0, sample_enrollments.shape[0]):\n",
    "    this_enrollment = sample_enrollments.iloc[i]\n",
    "  \n",
    "    this_patient = all_reports[all_reports.dfci_mrn == this_enrollment.dfci_mrn]\n",
    "    this_patient = this_patient[pd.to_datetime(this_patient.date) < pd.to_datetime(this_enrollment.trial_start_dt)]\n",
    "    \n",
    "\n",
    "    if this_patient.shape[0] > 0:\n",
    "        patient_sentences, patient_dates, patient_embeddings = embed_patient(this_patient, embedding_model)\n",
    "        patient_sentence_list.append(patient_sentences)\n",
    "        patient_date_list.append(patient_dates)\n",
    "        patient_summary = summarize_patient(patient_sentences, pd.to_datetime(patient_dates), patient_embeddings, embedding_model, llm, tokenizer, sentences_per_question=5)[1]\n",
    "        patient_summary_list.append(patient_summary)\n",
    "        patient_mrn_list.append(this_patient.groupby('dfci_mrn').first().reset_index().dfci_mrn.values.item())\n",
    "        patient_split_list.append(this_patient.groupby('dfci_mrn').first().reset_index().split.values.item())\n",
    "        protocol_number_list.append(this_enrollment.protocol_number)\n",
    "        trial_text_list.append(this_enrollment.trial_text)\n",
    "        enrollment_date_list.append(this_enrollment.trial_start_dt)\n",
    "    \n",
    "    if (i % 500 == 0) or i == (sample_enrollments.shape[0] - 1):\n",
    "        output = pd.DataFrame({'dfci_mrn':patient_mrn_list, \n",
    "                       'split':patient_split_list,\n",
    "                       'trial_start_dt': enrollment_date_list,\n",
    "                       'protocol_number': protocol_number_list,\n",
    "                       'trial_text': trial_text_list,\n",
    "                       'patient_summary': patient_summary_list})\n",
    "\n",
    "        output.to_csv('all_patient_summaries_6-27-24.csv')"
   ]
  },
  {
   "cell_type": "code",
   "execution_count": null,
   "id": "21b5e583-94b2-48af-82a7-6b801089ff36",
   "metadata": {},
   "outputs": [],
   "source": []
  },
  {
   "cell_type": "code",
   "execution_count": null,
   "id": "8f7f1a63-5b4f-4cd6-af1e-567a11161679",
   "metadata": {},
   "outputs": [],
   "source": []
  },
  {
   "cell_type": "code",
   "execution_count": null,
   "id": "2ce4cce6-3833-451a-98c6-d7f4c7b948c6",
   "metadata": {},
   "outputs": [],
   "source": []
  },
  {
   "cell_type": "code",
   "execution_count": null,
   "id": "d30bf018-e135-40be-b636-0ba17acf8e61",
   "metadata": {},
   "outputs": [],
   "source": []
  },
  {
   "cell_type": "code",
   "execution_count": null,
   "id": "ba6328f9-5658-4e4f-a59f-f47ef9120f90",
   "metadata": {},
   "outputs": [],
   "source": []
  },
  {
   "cell_type": "code",
   "execution_count": null,
   "id": "91534c0e-4873-4eda-9a69-53660a84b4df",
   "metadata": {},
   "outputs": [],
   "source": []
  },
  {
   "cell_type": "code",
   "execution_count": null,
   "id": "7aeb8919-d2ee-4212-b9d7-b142fb750f11",
   "metadata": {},
   "outputs": [],
   "source": []
  },
  {
   "cell_type": "code",
   "execution_count": null,
   "id": "cb3ed524-cd90-4c99-87ad-7c5997ab6e65",
   "metadata": {},
   "outputs": [],
   "source": []
  }
 ],
 "metadata": {
  "kernelspec": {
   "display_name": "Python 3 (ipykernel)",
   "language": "python",
   "name": "python3"
  },
  "language_info": {
   "codemirror_mode": {
    "name": "ipython",
    "version": 3
   },
   "file_extension": ".py",
   "mimetype": "text/x-python",
   "name": "python",
   "nbconvert_exporter": "python",
   "pygments_lexer": "ipython3",
   "version": "3.12.2"
  }
 },
 "nbformat": 4,
 "nbformat_minor": 5
}
