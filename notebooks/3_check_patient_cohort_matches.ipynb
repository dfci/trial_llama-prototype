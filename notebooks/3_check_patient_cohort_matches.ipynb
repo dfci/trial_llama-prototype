{
 "cells": [
  {
   "cell_type": "code",
   "execution_count": null,
   "id": "a3d6ff53-2176-44aa-8590-ec0aa301342d",
   "metadata": {},
   "outputs": [],
   "source": [
    "from llama_cpp import Llama\n",
    "import pandas as pd\n",
    "import numpy as np\n",
    "import torch.nn.functional as F\n",
    "import torch\n",
    "from transformers import AutoTokenizer\n",
    "from transformers import AutoModelForCausalLM\n",
    "import re\n",
    "import os\n"
   ]
  },
  {
   "cell_type": "code",
   "execution_count": null,
   "id": "bbb0b7c4-5e55-45fa-8637-7f76f8b0190b",
   "metadata": {},
   "outputs": [],
   "source": []
  },
  {
   "cell_type": "code",
   "execution_count": null,
   "id": "b5201e0a-e00b-402a-a640-935e6b7f663f",
   "metadata": {},
   "outputs": [],
   "source": [
    "# for trials with multiple cohorts (eligible patient subsets), our retrospective trial enrollment dataset\n",
    "# does not indicate which cohort a patient enrolled on.\n",
    "# therefore, this notebook uses llama to ascertain if each cohort for each trial on which a patient enrolled was a reasonable cohort consideration.\n",
    "# this generates a more specific training and evaluation dataset for patient-cohort matching"
   ]
  },
  {
   "cell_type": "code",
   "execution_count": null,
   "id": "62669512-19e7-43cd-a518-4572eea700af",
   "metadata": {},
   "outputs": [],
   "source": [
    "llm = Llama.from_pretrained(\n",
    "    repo_id=\"lmstudio-community/Meta-Llama-3-70B-Instruct-GGUF\",\n",
    "    filename=\"*Q4*\",\n",
    "    verbose=False,\n",
    "    local_dir = '/data/clin_notes_outcomes/meta/',\n",
    "    cache_dir = '/data/clin_notes_outcomes/meta/',\n",
    "    main_gpu=1,\n",
    "    n_ctx=8192,\n",
    "    n_gpu_layers=-1\n",
    ")"
   ]
  },
  {
   "cell_type": "code",
   "execution_count": null,
   "id": "35290eaa-2dfc-42b9-93c9-ccfe972eb5dc",
   "metadata": {},
   "outputs": [],
   "source": [
    "# test llama query\n",
    "response = llm.create_chat_completion(\n",
    "     messages=[{\n",
    "         \"role\": \"user\",\n",
    "         \"content\": \"what is the meaning of life?\"\n",
    "     }]\n",
    ")"
   ]
  },
  {
   "cell_type": "code",
   "execution_count": null,
   "id": "58cf8274-b448-4ffa-af79-8438dc708643",
   "metadata": {},
   "outputs": [],
   "source": [
    "response"
   ]
  },
  {
   "cell_type": "code",
   "execution_count": null,
   "id": "71bcb00b-cf3d-4ed6-bf44-ec30b62917b0",
   "metadata": {},
   "outputs": [],
   "source": [
    "# this function asks llama if a given trial cohort is a reasonable consideration for a given patient summary\n",
    "def ask_about_trial_loosely(patient_summary, trial_summary, llama_model):\n",
    "    messages = [{'role':'system', 'content': \"\"\"You are a brilliant oncologist with encyclopedic knowledge about cancer and its treatment. \n",
    "    Your job is to evaluate whether a given clinical trial is a reasonable consideration for a patient, given a clinical trial summary and a patient summary.\\n\"\"\"}, {'role':'user', 'content': \"Here is a summary of the clinical trial:\\n\" + trial_summary + \"\\nHere is a summary of the patient:\\n\" + patient_summary + \"\"\"\n",
    "Base your judgment on whether the patient generally fits the cancer type(s), prior treatment(s), and biomarker criteria specified for the trial.\n",
    "You do not have to determine if the patient is actually eligible; instead please just evaluate whether it is reasonable for the trial to be considered further by the patient's oncologist.\n",
    "Some trials have biomarker requirements that are not assessed until formal eligibility screening begins; please ignore these requirements.\n",
    "Reason step by step, then answer the question \"Is this trial a reasonable consideration for this patient?\" with a one-word Yes! or No! answer.\"\"\"}]\n",
    "\n",
    "    outputs = llama_model.create_chat_completion(messages=messages)\n",
    "\n",
    "    response = outputs['choices'][0]['message']['content']\n",
    "    if \"Yes!\" in response:\n",
    "        eligibility_result = 1.0\n",
    "    else:\n",
    "        eligibility_result = 0.0\n",
    "    \n",
    "    return outputs, response, eligibility_result\n",
    "    "
   ]
  },
  {
   "cell_type": "code",
   "execution_count": null,
   "id": "0b28761a-1b2f-4f05-9b96-6e82315ebf93",
   "metadata": {},
   "outputs": [],
   "source": [
    "# pull list of retrospective candidate patient-cohort matches for evaluation\n",
    "cohort_level_trials = pd.read_csv('trial_cohort_lineitems_6-27-24.csv')"
   ]
  },
  {
   "cell_type": "code",
   "execution_count": null,
   "id": "d2edfff7-8bd4-4757-b013-813d2bfc6102",
   "metadata": {},
   "outputs": [],
   "source": [
    "# pull list of retrospective patient summaries\n",
    "patient_summaries = pd.read_csv('all_patient_summaries_6-27-24.csv')"
   ]
  },
  {
   "cell_type": "code",
   "execution_count": null,
   "id": "d5a6c5b8-498b-4b34-83fa-041dd8dab524",
   "metadata": {},
   "outputs": [],
   "source": [
    "patient_summaries.patient_summary.str.contains('no relevant|No relevant').value_counts()"
   ]
  },
  {
   "cell_type": "code",
   "execution_count": null,
   "id": "864626b4-2fbd-4e98-8e52-29612b710558",
   "metadata": {},
   "outputs": [],
   "source": [
    "patient_summaries = patient_summaries[~patient_summaries.patient_summary.str.contains('no relevant|No relevant')]"
   ]
  },
  {
   "cell_type": "code",
   "execution_count": null,
   "id": "5d61f43e-7843-4960-bc37-55423ef2c5a2",
   "metadata": {},
   "outputs": [],
   "source": [
    "cohort_level_trials = cohort_level_trials[['protocol_number','study_nm','protocol_nbr','nct_id','title','brief_summary','detailed_summary','eligibility_criteria','trial_text','cohorts','this_cohort', 'cohort_number']]"
   ]
  },
  {
   "cell_type": "code",
   "execution_count": null,
   "id": "f6e4391a-36cd-488d-86af-8fec2c93dba0",
   "metadata": {},
   "outputs": [],
   "source": [
    "cohort_level_trials = cohort_level_trials[cohort_level_trials.this_cohort.str[0].isin(['1','2','3','4','5','6','7','8','9'])]"
   ]
  },
  {
   "cell_type": "code",
   "execution_count": null,
   "id": "b6469a56-9ea7-48fa-b268-72966b8e7b8c",
   "metadata": {},
   "outputs": [],
   "source": [
    "cohort_level_trials.info()"
   ]
  },
  {
   "cell_type": "code",
   "execution_count": null,
   "id": "6530aa0c-130c-4528-aabd-bf621868f241",
   "metadata": {},
   "outputs": [],
   "source": [
    "patient_cohort_candidates = pd.merge(patient_summaries, cohort_level_trials, on='protocol_number')\n",
    "patient_cohort_candidates.info()"
   ]
  },
  {
   "cell_type": "code",
   "execution_count": null,
   "id": "f1da5655-e9e6-4bba-ba41-691e3347c8ec",
   "metadata": {},
   "outputs": [],
   "source": [
    "patient_cohort_candidates['trial_and_cohort'] = patient_cohort_candidates['title'] + \"\\n\" + patient_cohort_candidates['brief_summary'] + \"\\nEligibility requirements:\\n\" + patient_cohort_candidates['this_cohort']"
   ]
  },
  {
   "cell_type": "code",
   "execution_count": null,
   "id": "8f7f1a63-5b4f-4cd6-af1e-567a11161679",
   "metadata": {},
   "outputs": [],
   "source": [
    "patient_cohort_candidates.info()"
   ]
  },
  {
   "cell_type": "code",
   "execution_count": null,
   "id": "2ce4cce6-3833-451a-98c6-d7f4c7b948c6",
   "metadata": {},
   "outputs": [],
   "source": [
    "patient_cohort_candidates.trial_and_cohort.iloc[0]"
   ]
  },
  {
   "cell_type": "code",
   "execution_count": null,
   "id": "d30bf018-e135-40be-b636-0ba17acf8e61",
   "metadata": {},
   "outputs": [],
   "source": [
    "%%capture\n",
    "output_list = []\n",
    "#for i in range(2):\n",
    "for i in range(501, patient_cohort_candidates.shape[0]):\n",
    "    output = patient_cohort_candidates.iloc[[i]]\n",
    "\n",
    "    _, output['llama_response'], output['eligibility_result'] = ask_about_trial_loosely(output['patient_summary'].iloc[0], output['this_cohort'].astype(str).iloc[0], llm)\n",
    "\n",
    "    output_list.append(output)\n",
    "    if (i % 500 == 0) or i == (patient_cohort_candidates.shape[0] - 1):\n",
    "        output_file = pd.concat(output_list, axis=0)\n",
    "        output_file.to_csv('cohort_specific_eligibility_checks.csv')\n"
   ]
  },
  {
   "cell_type": "code",
   "execution_count": null,
   "id": "91534c0e-4873-4eda-9a69-53660a84b4df",
   "metadata": {},
   "outputs": [],
   "source": []
  },
  {
   "cell_type": "code",
   "execution_count": null,
   "id": "eaebffcc-4b62-4ab6-a077-69a6e4340773",
   "metadata": {},
   "outputs": [],
   "source": []
  }
 ],
 "metadata": {
  "kernelspec": {
   "display_name": "Python 3 (ipykernel)",
   "language": "python",
   "name": "python3"
  },
  "language_info": {
   "codemirror_mode": {
    "name": "ipython",
    "version": 3
   },
   "file_extension": ".py",
   "mimetype": "text/x-python",
   "name": "python",
   "nbconvert_exporter": "python",
   "pygments_lexer": "ipython3",
   "version": "3.12.2"
  }
 },
 "nbformat": 4,
 "nbformat_minor": 5
}
